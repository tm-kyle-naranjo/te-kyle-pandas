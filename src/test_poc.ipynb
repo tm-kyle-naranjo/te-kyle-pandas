{
 "cells": [
  {
   "cell_type": "code",
   "execution_count": 6,
   "metadata": {},
   "outputs": [],
   "source": [
    "import pandas as pd\n",
    "import numpy as np\n",
    "import importlib"
   ]
  },
  {
   "cell_type": "code",
   "execution_count": 7,
   "metadata": {},
   "outputs": [
    {
     "data": {
      "text/html": [
       "<div>\n",
       "<style scoped>\n",
       "    .dataframe tbody tr th:only-of-type {\n",
       "        vertical-align: middle;\n",
       "    }\n",
       "\n",
       "    .dataframe tbody tr th {\n",
       "        vertical-align: top;\n",
       "    }\n",
       "\n",
       "    .dataframe thead th {\n",
       "        text-align: right;\n",
       "    }\n",
       "</style>\n",
       "<table border=\"1\" class=\"dataframe\">\n",
       "  <thead>\n",
       "    <tr style=\"text-align: right;\">\n",
       "      <th></th>\n",
       "      <th>validation_type</th>\n",
       "      <th>validation_remarks</th>\n",
       "    </tr>\n",
       "  </thead>\n",
       "  <tbody>\n",
       "    <tr>\n",
       "      <th>0</th>\n",
       "      <td>Column Presence</td>\n",
       "      <td>All required columns are present and properly ...</td>\n",
       "    </tr>\n",
       "    <tr>\n",
       "      <th>1</th>\n",
       "      <td>Hours Validation</td>\n",
       "      <td>Invalid 'hours' values in rows: [2916, 5005, 1...</td>\n",
       "    </tr>\n",
       "    <tr>\n",
       "      <th>2</th>\n",
       "      <td>Timestamp Format</td>\n",
       "      <td>Invalid timestamps: ['Row 2: Convertible if ch...</td>\n",
       "    </tr>\n",
       "    <tr>\n",
       "      <th>3</th>\n",
       "      <td>Null Values Check</td>\n",
       "      <td>Missing or null values found in rows: [15797, ...</td>\n",
       "    </tr>\n",
       "  </tbody>\n",
       "</table>\n",
       "</div>"
      ],
      "text/plain": [
       "     validation_type                                 validation_remarks\n",
       "0    Column Presence  All required columns are present and properly ...\n",
       "1   Hours Validation  Invalid 'hours' values in rows: [2916, 5005, 1...\n",
       "2   Timestamp Format  Invalid timestamps: ['Row 2: Convertible if ch...\n",
       "3  Null Values Check  Missing or null values found in rows: [15797, ..."
      ]
     },
     "execution_count": 7,
     "metadata": {},
     "output_type": "execute_result"
    }
   ],
   "source": [
    "import validations\n",
    "importlib.reload(validations)\n",
    "from validations import run_all_validations\n",
    "\n",
    "raw_data_df = pd.read_csv('../data/raw/raw_data.csv')\n",
    "validation_report = run_all_validations(raw_data_df)\n",
    "validation_report.head()"
   ]
  },
  {
   "cell_type": "code",
   "execution_count": 8,
   "metadata": {},
   "outputs": [
    {
     "data": {
      "text/html": [
       "<div>\n",
       "<style scoped>\n",
       "    .dataframe tbody tr th:only-of-type {\n",
       "        vertical-align: middle;\n",
       "    }\n",
       "\n",
       "    .dataframe tbody tr th {\n",
       "        vertical-align: top;\n",
       "    }\n",
       "\n",
       "    .dataframe thead th {\n",
       "        text-align: right;\n",
       "    }\n",
       "</style>\n",
       "<table border=\"1\" class=\"dataframe\">\n",
       "  <thead>\n",
       "    <tr style=\"text-align: right;\">\n",
       "      <th></th>\n",
       "      <th>user</th>\n",
       "      <th>timestamp</th>\n",
       "      <th>hours</th>\n",
       "      <th>project</th>\n",
       "    </tr>\n",
       "  </thead>\n",
       "  <tbody>\n",
       "    <tr>\n",
       "      <th>0</th>\n",
       "      <td>ned</td>\n",
       "      <td>2019-09-27 00:00:00 UTC</td>\n",
       "      <td>8.0</td>\n",
       "      <td>bizdev</td>\n",
       "    </tr>\n",
       "    <tr>\n",
       "      <th>1</th>\n",
       "      <td>robert</td>\n",
       "      <td>2019-09-27 00:00:00 UTC</td>\n",
       "      <td>8.0</td>\n",
       "      <td>bizdev</td>\n",
       "    </tr>\n",
       "    <tr>\n",
       "      <th>2</th>\n",
       "      <td>ned</td>\n",
       "      <td>2019-09-26 00:00:00 UTC</td>\n",
       "      <td>4.0</td>\n",
       "      <td>bizdev</td>\n",
       "    </tr>\n",
       "    <tr>\n",
       "      <th>3</th>\n",
       "      <td>ned</td>\n",
       "      <td>2019-09-26 00:00:00 UTC</td>\n",
       "      <td>1.0</td>\n",
       "      <td>cultureandmanagement</td>\n",
       "    </tr>\n",
       "    <tr>\n",
       "      <th>4</th>\n",
       "      <td>ned</td>\n",
       "      <td>2019-09-26 00:00:00 UTC</td>\n",
       "      <td>1.5</td>\n",
       "      <td>project-00</td>\n",
       "    </tr>\n",
       "  </tbody>\n",
       "</table>\n",
       "</div>"
      ],
      "text/plain": [
       "     user                timestamp  hours               project\n",
       "0     ned  2019-09-27 00:00:00 UTC    8.0                bizdev\n",
       "1  robert  2019-09-27 00:00:00 UTC    8.0                bizdev\n",
       "2     ned  2019-09-26 00:00:00 UTC    4.0                bizdev\n",
       "3     ned  2019-09-26 00:00:00 UTC    1.0  cultureandmanagement\n",
       "4     ned  2019-09-26 00:00:00 UTC    1.5            project-00"
      ]
     },
     "execution_count": 8,
     "metadata": {},
     "output_type": "execute_result"
    }
   ],
   "source": [
    "import tasks\n",
    "importlib.reload(tasks)\n",
    "from tasks import clean_data\n",
    "\n",
    "raw_data_df = pd.read_csv('../data/raw/raw_data.csv')\n",
    "\n",
    "cleaned_data_df = clean_data(raw_data_df)\n",
    "cleaned_data_df.head()\n"
   ]
  },
  {
   "cell_type": "code",
   "execution_count": 9,
   "metadata": {},
   "outputs": [],
   "source": [
    "import pandas.testing as pd_testing"
   ]
  },
  {
   "cell_type": "code",
   "execution_count": 10,
   "metadata": {},
   "outputs": [],
   "source": [
    "scratch_validation_report = pd.read_csv('../data/from_scratch/validation_report.csv')\n",
    "scratch_cleaned_data = pd.read_pickle('../data/from_scratch/cleaned_data.pkl')\n",
    "\n",
    "pd_testing.assert_frame_equal(validation_report, scratch_validation_report)"
   ]
  },
  {
   "cell_type": "code",
   "execution_count": 11,
   "metadata": {},
   "outputs": [],
   "source": [
    "pd_testing.assert_frame_equal(cleaned_data_df, scratch_cleaned_data)"
   ]
  }
 ],
 "metadata": {
  "kernelspec": {
   "display_name": "venv",
   "language": "python",
   "name": "python3"
  },
  "language_info": {
   "codemirror_mode": {
    "name": "ipython",
    "version": 3
   },
   "file_extension": ".py",
   "mimetype": "text/x-python",
   "name": "python",
   "nbconvert_exporter": "python",
   "pygments_lexer": "ipython3",
   "version": "3.12.4"
  }
 },
 "nbformat": 4,
 "nbformat_minor": 2
}
